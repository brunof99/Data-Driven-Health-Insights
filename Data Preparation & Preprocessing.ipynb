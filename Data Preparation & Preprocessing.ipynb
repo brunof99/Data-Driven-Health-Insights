{
 "cells": [
  {
   "cell_type": "markdown",
   "metadata": {},
   "source": [
    "# Data Preparation & Preprocessing (MIMIC-IV Demo Dataset)\n",
    "##### Project Author: Bruno Ferreira    \n",
    "##### Date: March-April 2024"
   ]
  },
  {
   "cell_type": "markdown",
   "metadata": {},
   "source": [
    "In this first notebook, we will focus on preparing and transforming the MIMIC-IV demo dataset into a suitable format to enable the planned sub-projects to be carried out."
   ]
  },
  {
   "cell_type": "markdown",
   "metadata": {},
   "source": [
    "#### Loading the dataset into a SQLite database, incorporating all the database's CSV files as tables"
   ]
  },
  {
   "cell_type": "code",
   "execution_count": 106,
   "metadata": {},
   "outputs": [],
   "source": [
    "import sqlite3\n",
    "import pandas as pd\n",
    "from pathlib import Path\n",
    "\n",
    "csv_directory = Path('C:/Users/bruno/Desktop/mimic') # Path to the directory containing CSV files\n",
    "\n",
    "csv_files = csv_directory.glob('*.csv') # List of CSV files\n",
    "\n",
    "conn = sqlite3.connect('C:/Users/bruno/Desktop/mimic/mimic_iv.db') # Create and connect to SQLite database\n",
    "\n",
    "for csv_file in csv_files: # Iterate over CSV files and create corresponding tables in SQLite database\n",
    "    table_name = csv_file.stem  # Extract table name from CSV file name\n",
    "    df = pd.read_csv(csv_file, dtype=str)  # Read CSV file into DataFrame with all columns as strings\n",
    "    df.to_sql(table_name, conn, if_exists='replace', index=False)  # Create SQLite table\n",
    "\n",
    "conn.commit()"
   ]
  },
  {
   "cell_type": "markdown",
   "metadata": {},
   "source": [
    "- Configuring the iPython-SQL environment for queries, and retrieving the total number of patients from the \"patients\" table for testing purposes"
   ]
  },
  {
   "cell_type": "code",
   "execution_count": null,
   "metadata": {},
   "outputs": [],
   "source": [
    "!pip install ipython-sql"
   ]
  },
  {
   "cell_type": "code",
   "execution_count": null,
   "metadata": {},
   "outputs": [],
   "source": [
    "%load_ext sql\n",
    "%sql sqlite:///C:/Users/bruno/Desktop/mimic/mimic_iv.db"
   ]
  },
  {
   "cell_type": "code",
   "execution_count": 109,
   "metadata": {},
   "outputs": [
    {
     "name": "stdout",
     "output_type": "stream",
     "text": [
      " * sqlite:///C:/Users/bruno/Desktop/mimic/mimic_iv.db\n",
      "Done.\n"
     ]
    },
    {
     "data": {
      "text/html": [
       "<table>\n",
       "    <thead>\n",
       "        <tr>\n",
       "            <th>Total_Patients</th>\n",
       "        </tr>\n",
       "    </thead>\n",
       "    <tbody>\n",
       "        <tr>\n",
       "            <td>100</td>\n",
       "        </tr>\n",
       "    </tbody>\n",
       "</table>"
      ],
      "text/plain": [
       "[(100,)]"
      ]
     },
     "execution_count": 109,
     "metadata": {},
     "output_type": "execute_result"
    }
   ],
   "source": [
    "%sql SELECT COUNT(*) AS Total_Patients FROM patients"
   ]
  },
  {
   "cell_type": "markdown",
   "metadata": {},
   "source": [
    "- Selecting database tables with the most relevant information for the 3 subprojects"
   ]
  },
  {
   "cell_type": "markdown",
   "metadata": {},
   "source": [
    "##### Relevant Tables:\n",
    "\n",
    "`Admissions`: Provides information about each patient's hospital admission, including admission and discharge timestamps and the patient outcome (in-hospital death or not) which help understanding the patient's hospitalization journey.\n",
    "\n",
    "`Patients`: Contains demographic information about patients, including its ID, age and gender, which can be used for patient stratification and risk assessment.\n",
    "\n",
    "`Diagnoses_ICD`: Includes diagnostic codes assigned to patients during their hospital stay, which are valuable for identifying underlying health conditions and comorbidities that may influence patient outcomes.\n",
    "\n",
    "`Procedures_ICD`: Provides information about procedures performed on patients during their hospitalization, which can be relevant for understanding the severity of illness and predicting outcomes.\n",
    "\n",
    "`Prescriptions`: Contains data about medications prescribed to patients, including dosage, frequency, and route of administration, which can be important for assessing treatment regimens and potential medication-related adverse events.\n",
    "\n",
    "`omr`: Offers miscellaneous health information such as blood pressure, height, weight, and body mass index, which can be useful for risk assessment and outcome prediction.\n",
    "\n",
    "`labevents`: Includes laboratory test results, which are crucial for assessing patient health status, monitoring disease progression, and identifying abnormalities that may indicate adverse events or mortality risk."
   ]
  },
  {
   "cell_type": "markdown",
   "metadata": {},
   "source": [
    "#### Data wrangling"
   ]
  },
  {
   "cell_type": "markdown",
   "metadata": {},
   "source": [
    "- Let's first inspect the raw data in the tables, total number of entries (rows) and columns, name and data type of each column and number of non-null values in each column:"
   ]
  },
  {
   "cell_type": "code",
   "execution_count": 110,
   "metadata": {},
   "outputs": [
    {
     "name": "stdout",
     "output_type": "stream",
     "text": [
      " * sqlite:///C:/Users/bruno/Desktop/mimic/mimic_iv.db\n",
      "Done.\n",
      "\n",
      "==================== Inspecting admissions ====================\n",
      "\n",
      "Glimpse of admissions DataFrame:\n",
      "  subject_id   hadm_id            admittime            dischtime  \\\n",
      "0   10004235  24181354  2196-02-24 14:38:00  2196-03-04 14:02:00   \n",
      "1   10009628  25926192  2153-09-17 17:08:00  2153-09-25 13:20:00   \n",
      "2   10018081  23983182  2134-08-18 02:02:00  2134-08-23 19:35:00   \n",
      "3   10006053  22942076  2111-11-13 23:39:00  2111-11-15 17:20:00   \n",
      "4   10031404  21606243  2113-08-04 18:46:00  2113-08-06 20:57:00   \n",
      "\n",
      "             deathtime admission_type admit_provider_id  \\\n",
      "0                 None         URGENT            P03YMR   \n",
      "1                 None         URGENT            P41R5N   \n",
      "2                 None         URGENT            P233F6   \n",
      "3  2111-11-15 17:20:00         URGENT            P38TI6   \n",
      "4                 None         URGENT            P07HDB   \n",
      "\n",
      "       admission_location        discharge_location insurance language  \\\n",
      "0  TRANSFER FROM HOSPITAL  SKILLED NURSING FACILITY  Medicaid  ENGLISH   \n",
      "1  TRANSFER FROM HOSPITAL          HOME HEALTH CARE  Medicaid        ?   \n",
      "2  TRANSFER FROM HOSPITAL  SKILLED NURSING FACILITY  Medicare  ENGLISH   \n",
      "3  TRANSFER FROM HOSPITAL                      DIED  Medicaid  ENGLISH   \n",
      "4  TRANSFER FROM HOSPITAL                      HOME     Other  ENGLISH   \n",
      "\n",
      "  marital_status                            race            edregtime  \\\n",
      "0         SINGLE              BLACK/CAPE VERDEAN  2196-02-24 12:15:00   \n",
      "1        MARRIED  HISPANIC/LATINO - PUERTO RICAN                 None   \n",
      "2        MARRIED                           WHITE  2134-08-17 16:24:00   \n",
      "3           None                         UNKNOWN                 None   \n",
      "4        WIDOWED                           WHITE                 None   \n",
      "\n",
      "             edouttime hospital_expire_flag  \n",
      "0  2196-02-24 17:07:00                    0  \n",
      "1                 None                    0  \n",
      "2  2134-08-18 03:15:00                    0  \n",
      "3                 None                    1  \n",
      "4                 None                    0  \n",
      "\n",
      "Summary information of admissions DataFrame:\n",
      "<class 'pandas.core.frame.DataFrame'>\n",
      "RangeIndex: 275 entries, 0 to 274\n",
      "Data columns (total 16 columns):\n",
      " #   Column                Non-Null Count  Dtype \n",
      "---  ------                --------------  ----- \n",
      " 0   subject_id            275 non-null    object\n",
      " 1   hadm_id               275 non-null    object\n",
      " 2   admittime             275 non-null    object\n",
      " 3   dischtime             275 non-null    object\n",
      " 4   deathtime             15 non-null     object\n",
      " 5   admission_type        275 non-null    object\n",
      " 6   admit_provider_id     275 non-null    object\n",
      " 7   admission_location    275 non-null    object\n",
      " 8   discharge_location    233 non-null    object\n",
      " 9   insurance             275 non-null    object\n",
      " 10  language              275 non-null    object\n",
      " 11  marital_status        263 non-null    object\n",
      " 12  race                  275 non-null    object\n",
      " 13  edregtime             182 non-null    object\n",
      " 14  edouttime             182 non-null    object\n",
      " 15  hospital_expire_flag  275 non-null    object\n",
      "dtypes: object(16)\n",
      "memory usage: 34.5+ KB\n",
      "None\n",
      " * sqlite:///C:/Users/bruno/Desktop/mimic/mimic_iv.db\n",
      "Done.\n",
      "\n",
      "==================== Inspecting patients ====================\n",
      "\n",
      "Glimpse of patients DataFrame:\n",
      "  subject_id gender anchor_age anchor_year anchor_year_group         dod\n",
      "0   10014729      F         21        2125       2011 - 2013        None\n",
      "1   10003400      F         72        2134       2011 - 2013  2137-09-02\n",
      "2   10002428      F         80        2155       2011 - 2013        None\n",
      "3   10032725      F         38        2143       2011 - 2013  2143-03-30\n",
      "4   10027445      F         48        2142       2011 - 2013  2146-02-09\n",
      "\n",
      "Summary information of patients DataFrame:\n",
      "<class 'pandas.core.frame.DataFrame'>\n",
      "RangeIndex: 100 entries, 0 to 99\n",
      "Data columns (total 6 columns):\n",
      " #   Column             Non-Null Count  Dtype \n",
      "---  ------             --------------  ----- \n",
      " 0   subject_id         100 non-null    object\n",
      " 1   gender             100 non-null    object\n",
      " 2   anchor_age         100 non-null    object\n",
      " 3   anchor_year        100 non-null    object\n",
      " 4   anchor_year_group  100 non-null    object\n",
      " 5   dod                31 non-null     object\n",
      "dtypes: object(6)\n",
      "memory usage: 4.8+ KB\n",
      "None\n",
      " * sqlite:///C:/Users/bruno/Desktop/mimic/mimic_iv.db\n",
      "Done.\n",
      "\n",
      "==================== Inspecting diagnoses_icd ====================\n",
      "\n",
      "Glimpse of diagnoses_icd DataFrame:\n",
      "  subject_id   hadm_id seq_num icd_code icd_version\n",
      "0   10035185  22580999       3     4139           9\n",
      "1   10035185  22580999      10     V707           9\n",
      "2   10035185  22580999       1    41401           9\n",
      "3   10035185  22580999       9     3899           9\n",
      "4   10035185  22580999      11    V8532           9\n",
      "\n",
      "Summary information of diagnoses_icd DataFrame:\n",
      "<class 'pandas.core.frame.DataFrame'>\n",
      "RangeIndex: 4506 entries, 0 to 4505\n",
      "Data columns (total 5 columns):\n",
      " #   Column       Non-Null Count  Dtype \n",
      "---  ------       --------------  ----- \n",
      " 0   subject_id   4506 non-null   object\n",
      " 1   hadm_id      4506 non-null   object\n",
      " 2   seq_num      4506 non-null   object\n",
      " 3   icd_code     4506 non-null   object\n",
      " 4   icd_version  4506 non-null   object\n",
      "dtypes: object(5)\n",
      "memory usage: 176.1+ KB\n",
      "None\n",
      " * sqlite:///C:/Users/bruno/Desktop/mimic/mimic_iv.db\n",
      "Done.\n",
      "\n",
      "==================== Inspecting procedures_icd ====================\n",
      "\n",
      "Glimpse of procedures_icd DataFrame:\n",
      "  subject_id   hadm_id seq_num   chartdate icd_code icd_version\n",
      "0   10011398  27505812       3  2146-12-15     3961           9\n",
      "1   10011398  27505812       2  2146-12-15     3615           9\n",
      "2   10011398  27505812       1  2146-12-15     3614           9\n",
      "3   10014729  23300884       4  2125-03-23     3897           9\n",
      "4   10014729  23300884       1  2125-03-20     3403           9\n",
      "\n",
      "Summary information of procedures_icd DataFrame:\n",
      "<class 'pandas.core.frame.DataFrame'>\n",
      "RangeIndex: 722 entries, 0 to 721\n",
      "Data columns (total 6 columns):\n",
      " #   Column       Non-Null Count  Dtype \n",
      "---  ------       --------------  ----- \n",
      " 0   subject_id   722 non-null    object\n",
      " 1   hadm_id      722 non-null    object\n",
      " 2   seq_num      722 non-null    object\n",
      " 3   chartdate    722 non-null    object\n",
      " 4   icd_code     722 non-null    object\n",
      " 5   icd_version  722 non-null    object\n",
      "dtypes: object(6)\n",
      "memory usage: 34.0+ KB\n",
      "None\n",
      " * sqlite:///C:/Users/bruno/Desktop/mimic/mimic_iv.db\n",
      "Done.\n",
      "\n",
      "==================== Inspecting prescriptions ====================\n",
      "\n",
      "Glimpse of prescriptions DataFrame:\n",
      "  subject_id   hadm_id pharmacy_id poe_id poe_seq order_provider_id  \\\n",
      "0   10027602  28166872    27168639   None    None              None   \n",
      "1   10027602  28166872    40720238   None    None              None   \n",
      "2   10027602  28166872    62845687   None    None              None   \n",
      "3   10027602  28166872    24340150   None    None              None   \n",
      "4   10027602  28166872    14435820   None    None              None   \n",
      "\n",
      "             starttime stoptime drug_type              drug  ...   gsn   ndc  \\\n",
      "0  2201-10-30 12:00:00     None      MAIN  Fentanyl Citrate  ...  None  None   \n",
      "1  2201-10-30 12:00:00     None      MAIN  Fentanyl Citrate  ...  None  None   \n",
      "2  2201-10-31 12:00:00     None      MAIN         Lorazepam  ...  None  None   \n",
      "3  2201-10-30 12:00:00     None      MAIN         Midazolam  ...  None  None   \n",
      "4  2201-10-30 12:00:00     None      MAIN         Midazolam  ...  None  None   \n",
      "\n",
      "  prod_strength form_rx dose_val_rx dose_unit_rx form_val_disp form_unit_disp  \\\n",
      "0          None    None        None         None          None           None   \n",
      "1          None    None        None         None          None           None   \n",
      "2          None    None        None         None          None           None   \n",
      "3          None    None        None         None          None           None   \n",
      "4          None    None        None         None          None           None   \n",
      "\n",
      "  doses_per_24_hrs route  \n",
      "0             None  None  \n",
      "1             None  None  \n",
      "2             None  None  \n",
      "3             None  None  \n",
      "4             None  None  \n",
      "\n",
      "[5 rows x 21 columns]\n",
      "\n",
      "Summary information of prescriptions DataFrame:\n",
      "<class 'pandas.core.frame.DataFrame'>\n",
      "RangeIndex: 18087 entries, 0 to 18086\n",
      "Data columns (total 21 columns):\n",
      " #   Column             Non-Null Count  Dtype \n",
      "---  ------             --------------  ----- \n",
      " 0   subject_id         18087 non-null  object\n",
      " 1   hadm_id            18087 non-null  object\n",
      " 2   pharmacy_id        18087 non-null  object\n",
      " 3   poe_id             17969 non-null  object\n",
      " 4   poe_seq            17969 non-null  object\n",
      " 5   order_provider_id  17993 non-null  object\n",
      " 6   starttime          18087 non-null  object\n",
      " 7   stoptime           18073 non-null  object\n",
      " 8   drug_type          18087 non-null  object\n",
      " 9   drug               18087 non-null  object\n",
      " 10  formulary_drug_cd  18075 non-null  object\n",
      " 11  gsn                15568 non-null  object\n",
      " 12  ndc                18066 non-null  object\n",
      " 13  prod_strength      18078 non-null  object\n",
      " 14  form_rx            12 non-null     object\n",
      " 15  dose_val_rx        18078 non-null  object\n",
      " 16  dose_unit_rx       18078 non-null  object\n",
      " 17  form_val_disp      18078 non-null  object\n",
      " 18  form_unit_disp     18078 non-null  object\n",
      " 19  doses_per_24_hrs   10704 non-null  object\n",
      " 20  route              18081 non-null  object\n",
      "dtypes: object(21)\n",
      "memory usage: 2.9+ MB\n",
      "None\n",
      " * sqlite:///C:/Users/bruno/Desktop/mimic/mimic_iv.db\n",
      "Done.\n",
      "\n",
      "==================== Inspecting omr ====================\n",
      "\n",
      "Glimpse of omr DataFrame:\n",
      "  subject_id   chartdate seq_num      result_name result_value\n",
      "0   10011398  2146-12-01       1  Height (Inches)           63\n",
      "1   10011398  2147-01-22       1     Weight (Lbs)          127\n",
      "2   10011398  2146-12-01       1     Weight (Lbs)          135\n",
      "3   10011398  2147-07-24       1     Weight (Lbs)          136\n",
      "4   10011398  2147-03-26       1     Weight (Lbs)          136\n",
      "\n",
      "Summary information of omr DataFrame:\n",
      "<class 'pandas.core.frame.DataFrame'>\n",
      "RangeIndex: 2964 entries, 0 to 2963\n",
      "Data columns (total 5 columns):\n",
      " #   Column        Non-Null Count  Dtype \n",
      "---  ------        --------------  ----- \n",
      " 0   subject_id    2964 non-null   object\n",
      " 1   chartdate     2964 non-null   object\n",
      " 2   seq_num       2964 non-null   object\n",
      " 3   result_name   2964 non-null   object\n",
      " 4   result_value  2964 non-null   object\n",
      "dtypes: object(5)\n",
      "memory usage: 115.9+ KB\n",
      "None\n",
      " * sqlite:///C:/Users/bruno/Desktop/mimic/mimic_iv.db\n",
      "Done.\n",
      "\n",
      "==================== Inspecting labevents ====================\n",
      "\n",
      "Glimpse of labevents DataFrame:\n",
      "  labevent_id subject_id   hadm_id specimen_id itemid order_provider_id  \\\n",
      "0      172061   10014354  29600294     1808066  51277              None   \n",
      "1      172062   10014354  29600294     1808066  51279              None   \n",
      "2      172068   10014354  29600294     1808066  52172              None   \n",
      "3      172063   10014354  29600294     1808066  51301              None   \n",
      "4      172050   10014354  29600294     1808066  51249              None   \n",
      "\n",
      "             charttime            storetime value valuenum valueuom  \\\n",
      "0  2148-08-16 00:00:00  2148-08-16 01:30:00  15.4     15.4        %   \n",
      "1  2148-08-16 00:00:00  2148-08-16 01:30:00  3.35     3.35     m/uL   \n",
      "2  2148-08-16 00:00:00  2148-08-16 01:30:00  49.7     49.7       fL   \n",
      "3  2148-08-16 00:00:00  2148-08-16 01:30:00  20.3     20.3     K/uL   \n",
      "4  2148-08-16 00:00:00  2148-08-16 01:30:00  31.1     31.1     g/dL   \n",
      "\n",
      "  ref_range_lower ref_range_upper      flag priority comments  \n",
      "0            10.5            15.5      None  ROUTINE     None  \n",
      "1             4.6             6.1  abnormal  ROUTINE     None  \n",
      "2            35.1            46.3  abnormal  ROUTINE     None  \n",
      "3               4              10  abnormal  ROUTINE     None  \n",
      "4              32              37  abnormal  ROUTINE     None  \n",
      "\n",
      "Summary information of labevents DataFrame:\n",
      "<class 'pandas.core.frame.DataFrame'>\n",
      "RangeIndex: 107727 entries, 0 to 107726\n",
      "Data columns (total 16 columns):\n",
      " #   Column             Non-Null Count   Dtype \n",
      "---  ------             --------------   ----- \n",
      " 0   labevent_id        107727 non-null  object\n",
      " 1   subject_id         107727 non-null  object\n",
      " 2   hadm_id            79307 non-null   object\n",
      " 3   specimen_id        107727 non-null  object\n",
      " 4   itemid             107727 non-null  object\n",
      " 5   order_provider_id  16830 non-null   object\n",
      " 6   charttime          107727 non-null  object\n",
      " 7   storetime          106735 non-null  object\n",
      " 8   value              98139 non-null   object\n",
      " 9   valuenum           95246 non-null   object\n",
      " 10  valueuom           91524 non-null   object\n",
      " 11  ref_range_lower    88999 non-null   object\n",
      " 12  ref_range_upper    88999 non-null   object\n",
      " 13  flag               40275 non-null   object\n",
      " 14  priority           98398 non-null   object\n",
      " 15  comments           18454 non-null   object\n",
      "dtypes: object(16)\n",
      "memory usage: 13.2+ MB\n",
      "None\n"
     ]
    }
   ],
   "source": [
    "import numpy as np \n",
    "\n",
    "relevant_tables = ['admissions', 'patients', 'diagnoses_icd', 'procedures_icd', 'prescriptions', 'omr', 'labevents']\n",
    "\n",
    "# Define a function to preprocess each table\n",
    "def inspect_tables(table_name):\n",
    " \n",
    "    query = f\"SELECT * FROM {table_name};\" # Fetch data from the table\n",
    "    data = %sql $query\n",
    "\n",
    "    df = data.DataFrame() # Convert data to a pandas DataFrame\n",
    "\n",
    "    print(f\"\\n{'='*20} Inspecting {table_name} {'='*20}\") # Print header for table being processed\n",
    "\n",
    "    print(f\"\\nGlimpse of {table_name} DataFrame:\") # Display glimpse of DataFrame\n",
    "    print(df.head())\n",
    "\n",
    "    print(f\"\\nSummary information of {table_name} DataFrame:\") # Display number of rows and columns, missing values and variable data types\n",
    "    print(df.info())\n",
    "\n",
    "# Iterate over relevant tables and preprocess each one\n",
    "for table_name in relevant_tables:\n",
    "    inspect_tables(table_name)"
   ]
  },
  {
   "cell_type": "markdown",
   "metadata": {},
   "source": [
    "- Let's load the tables information into pandas dataframes to to make them easier to handle"
   ]
  },
  {
   "cell_type": "code",
   "execution_count": 111,
   "metadata": {},
   "outputs": [],
   "source": [
    "for table in relevant_tables:\n",
    "    query = f\"SELECT * FROM {table}\"\n",
    "    globals()[table] = pd.read_sql_query(query, conn)"
   ]
  },
  {
   "cell_type": "markdown",
   "metadata": {},
   "source": [
    "- Cleaning and pre-processing the raw tables"
   ]
  },
  {
   "cell_type": "markdown",
   "metadata": {},
   "source": [
    "`Admissions table`"
   ]
  },
  {
   "cell_type": "code",
   "execution_count": 112,
   "metadata": {},
   "outputs": [
    {
     "name": "stdout",
     "output_type": "stream",
     "text": [
      "Relevant columns from this table have no missing values.\n"
     ]
    }
   ],
   "source": [
    "admissions_del = ['hadm_id','admit_provider_id','admission_type','insurance','language','marital_status','edregtime','edouttime','deathtime','discharge_location']\n",
    "admissions.drop(columns=admissions_del, inplace=True) # Drops unnecessary columns\n",
    "\n",
    "admissions['admittime'] = pd.to_datetime(admissions['admittime']) # Converts variables to correct data type\n",
    "admissions['dischtime'] = pd.to_datetime(admissions['dischtime']) # P.S.: Date years were changed to de-identify patients but are consistent across the databases tables for each patient.\n",
    "admissions['hospital_expire_flag'] = admissions['hospital_expire_flag'].astype(int)\n",
    "\n",
    "headers = ['subject_id','admittime','dischtime','admission_location','race','deceased'] # Assigns new column names\n",
    "admissions.columns = headers\n",
    "\n",
    "if admissions.isnull().sum().sum() == 0: # Checks for missing values\n",
    "    print(\"Relevant columns from this table have no missing values.\")\n",
    "else:\n",
    "    print(\"One or more relevant columns from this table have missing values.\")"
   ]
  },
  {
   "cell_type": "markdown",
   "metadata": {},
   "source": [
    "`Patients table`"
   ]
  },
  {
   "cell_type": "code",
   "execution_count": 113,
   "metadata": {},
   "outputs": [
    {
     "name": "stdout",
     "output_type": "stream",
     "text": [
      "One or more relevant columns from this table have missing values.\n"
     ]
    }
   ],
   "source": [
    "patients_del = ['anchor_year', 'anchor_year_group'] # Drops unnecessary columns\n",
    "patients.drop(columns=patients_del, inplace=True) \n",
    "\n",
    "patients['anchor_age'] = patients['anchor_age'].astype(int) # Converts variables to correct data type\n",
    "patients['dod'] = pd.to_datetime(patients['dod'])\n",
    "\n",
    "headers = ['subject_id', 'gender', 'age', 'dateofdeath'] # Assigns new column names\n",
    "patients.columns = headers\n",
    "\n",
    "if patients.isnull().sum().sum() == 0: # Checks for missing values (P.S.: Null values in 'dateofdeath' mean \"No death\", so none are missing values.)\n",
    "    print(\"Relevant columns from this table have no missing values.\")\n",
    "else:\n",
    "    print(\"One or more relevant columns from this table have missing values.\")"
   ]
  },
  {
   "cell_type": "markdown",
   "metadata": {},
   "source": [
    "`Diagnoses_ICD table`"
   ]
  },
  {
   "cell_type": "code",
   "execution_count": 114,
   "metadata": {},
   "outputs": [
    {
     "name": "stdout",
     "output_type": "stream",
     "text": [
      "Relevant columns from this table have no missing values.\n"
     ]
    }
   ],
   "source": [
    "diagnoses_icd.drop(columns=['hadm_id'], inplace=True)  # Drops unnecessary columns\n",
    "\n",
    "diagnoses_icd['seq_num'] = diagnoses_icd['seq_num'].astype(int) # Converts variable to correct data type\n",
    "\n",
    "diagnoses_icd.rename(columns={'seq_num': 'diagnosis_order'}, inplace=True) # Renames 'seq_num' column\n",
    "\n",
    "if diagnoses_icd.isnull().sum().sum() == 0: # Checks for missing values\n",
    "    print(\"Relevant columns from this table have no missing values.\")\n",
    "else:\n",
    "    print(\"One or more relevant columns from this table have missing values.\")"
   ]
  },
  {
   "cell_type": "markdown",
   "metadata": {},
   "source": [
    "`Procedures_ICD table`"
   ]
  },
  {
   "cell_type": "code",
   "execution_count": 115,
   "metadata": {},
   "outputs": [
    {
     "name": "stdout",
     "output_type": "stream",
     "text": [
      "Relevant columns from this table have no missing values.\n"
     ]
    }
   ],
   "source": [
    "procedures_icd.drop(columns=['hadm_id'], inplace=True) # Drops unnecessary columns\n",
    "\n",
    "procedures_icd.rename(columns={'chartdate': 'procedure_date', 'seq_num': 'procedure_order'}, inplace=True) # Renames columns\n",
    "\n",
    "procedures_icd['procedure_order'] = procedures_icd['procedure_order'].astype(int) # Converts variable to correct data type\n",
    "\n",
    "if procedures_icd.isnull().sum().sum() == 0: # Checks for missing values\n",
    "    print(\"Relevant columns from this table have no missing values.\")\n",
    "else:\n",
    "    print(\"One or more relevant columns from this table have missing values.\")"
   ]
  },
  {
   "cell_type": "markdown",
   "metadata": {},
   "source": [
    "`Prescriptions table`"
   ]
  },
  {
   "cell_type": "code",
   "execution_count": 116,
   "metadata": {},
   "outputs": [
    {
     "name": "stdout",
     "output_type": "stream",
     "text": [
      "Relevant columns from this table have no missing values.\n"
     ]
    }
   ],
   "source": [
    "prescriptions = prescriptions[['subject_id', 'drug']] # Keeps most relevant columns\n",
    "\n",
    "prescriptions.rename(columns={'drug': 'prescriptions'}) # Renames 'drug' column to \"prescriptions\"\n",
    "\n",
    "if prescriptions.isnull().sum().sum() == 0: # Checks for missing values\n",
    "    print(\"Relevant columns from this table have no missing values.\")\n",
    "else:\n",
    "    print(\"One or more relevant columns from this table have missing values.\")"
   ]
  },
  {
   "cell_type": "markdown",
   "metadata": {},
   "source": [
    "`OMR (Miscellaneous measurements) table`"
   ]
  },
  {
   "cell_type": "code",
   "execution_count": 117,
   "metadata": {},
   "outputs": [
    {
     "name": "stdout",
     "output_type": "stream",
     "text": [
      "Relevant columns from this table have no missing values.\n"
     ]
    }
   ],
   "source": [
    "omr.drop(columns=['seq_num'], inplace=True) # Drops unnecessary column\n",
    "\n",
    "omr.rename(columns={'chartdate': 'date', 'result_name': 'measurement', 'result_value': 'value'}, inplace=True) # Renames columns\n",
    "\n",
    "omr['date'] = pd.to_datetime(omr['date']) # Converts variable to correct data type\n",
    "\n",
    "### Splits blood pressure values into systolic and diastolic columns\n",
    "### omr[['systolic_bp', 'diastolic_bp']] = omr['value'].str.split('/', expand=True)\n",
    "\n",
    "if omr.isnull().sum().sum() == 0: # Checks for missing values\n",
    "    print(\"Relevant columns from this table have no missing values.\")\n",
    "else:\n",
    "    print(\"One or more relevant columns from this table have missing values.\")\n",
    "#FEATURE ENGINNERING: AGGREGATE (MEAN VALUES). SEPARATE MEASUREMENTS IN COLUMNS"
   ]
  },
  {
   "cell_type": "markdown",
   "metadata": {},
   "source": [
    "`Labevents (Laboratory Results) table`"
   ]
  },
  {
   "cell_type": "code",
   "execution_count": 118,
   "metadata": {},
   "outputs": [
    {
     "data": {
      "text/plain": [
       "subject_id        0\n",
       "labresult     56340\n",
       "dtype: int64"
      ]
     },
     "execution_count": 118,
     "metadata": {},
     "output_type": "execute_result"
    }
   ],
   "source": [
    "labevents = labevents[['subject_id', 'valuenum', 'flag']] # Keeps only the required columns\n",
    "\n",
    "labevents.rename(columns={'flag': 'labresult'}, inplace=True) # Renames column\n",
    "\n",
    "labevents.dropna(subset=['valuenum'], inplace=True) # Filters rows without missing lab result values\n",
    "\n",
    "labevents.drop(columns=['valuenum'], inplace=True) # Removes lab result values column (no longer necessary)\n",
    "\n",
    "labevents.isnull().sum() # Checks for missing values\n",
    "#FEATURE ENGINNERING: ex: % of abnormal lab results(?)"
   ]
  },
  {
   "cell_type": "markdown",
   "metadata": {},
   "source": [
    "- Missing values on 'labresult' mean \"normal\" lab results, so let's replace them accordingly:"
   ]
  },
  {
   "cell_type": "code",
   "execution_count": 119,
   "metadata": {},
   "outputs": [],
   "source": [
    "labevents.loc[labevents['labresult'].isnull(), 'labresult'] = 'normal'"
   ]
  },
  {
   "cell_type": "markdown",
   "metadata": {},
   "source": [
    "- Lastly, we need to remove duplicated rows that don't add value to our research (Excluding 'admissions' and 'labevents' tables, because duplicates like multiple abnormal lab results or multiple admissions for the same patient may give us valuable insights):"
   ]
  },
  {
   "cell_type": "code",
   "execution_count": 120,
   "metadata": {},
   "outputs": [
    {
     "name": "stdout",
     "output_type": "stream",
     "text": [
      "No duplicates found in patients.\n",
      "Duplicates found in diagnoses_icd. Removing duplicates...\n",
      "Duplicates removed from diagnoses_icd.\n",
      "No duplicates found in procedures_icd.\n",
      "Duplicates found in prescriptions. Removing duplicates...\n",
      "Duplicates removed from prescriptions.\n",
      "Duplicates found in omr. Removing duplicates...\n",
      "Duplicates removed from omr.\n"
     ]
    }
   ],
   "source": [
    "# Duplicated patients and identical diagnoses, procedures, prescriptions and measurements are redundant\n",
    "duplicates_from = ['patients', 'diagnoses_icd', 'procedures_icd', 'prescriptions', 'omr']\n",
    "\n",
    "for table_name in duplicates_from:\n",
    "    df = globals()[table_name]  # Get DataFrame by its name\n",
    "    \n",
    "    if df.duplicated().any(): # Check for duplicates\n",
    "        print(f\"Duplicates found in {table_name}. Removing duplicates...\")\n",
    "        df.drop_duplicates(inplace=True)  # Remove duplicates\n",
    "        print(f\"Duplicates removed from {table_name}.\")\n",
    "    else:\n",
    "        print(f\"No duplicates found in {table_name}.\")"
   ]
  },
  {
   "cell_type": "markdown",
   "metadata": {},
   "source": [
    "#### Feature Engineering"
   ]
  },
  {
   "cell_type": "code",
   "execution_count": null,
   "metadata": {},
   "outputs": [],
   "source": []
  },
  {
   "cell_type": "code",
   "execution_count": null,
   "metadata": {},
   "outputs": [],
   "source": []
  },
  {
   "cell_type": "code",
   "execution_count": 121,
   "metadata": {},
   "outputs": [
    {
     "data": {
      "text/html": [
       "<div>\n",
       "<style scoped>\n",
       "    .dataframe tbody tr th:only-of-type {\n",
       "        vertical-align: middle;\n",
       "    }\n",
       "\n",
       "    .dataframe tbody tr th {\n",
       "        vertical-align: top;\n",
       "    }\n",
       "\n",
       "    .dataframe thead th {\n",
       "        text-align: right;\n",
       "    }\n",
       "</style>\n",
       "<table border=\"1\" class=\"dataframe\">\n",
       "  <thead>\n",
       "    <tr style=\"text-align: right;\">\n",
       "      <th></th>\n",
       "      <th>subject_id</th>\n",
       "      <th>admittime</th>\n",
       "      <th>dischtime</th>\n",
       "      <th>admission_location</th>\n",
       "      <th>race</th>\n",
       "      <th>deceased</th>\n",
       "    </tr>\n",
       "  </thead>\n",
       "  <tbody>\n",
       "    <tr>\n",
       "      <th>0</th>\n",
       "      <td>10004235</td>\n",
       "      <td>2196-02-24 14:38:00</td>\n",
       "      <td>2196-03-04 14:02:00</td>\n",
       "      <td>TRANSFER FROM HOSPITAL</td>\n",
       "      <td>BLACK/CAPE VERDEAN</td>\n",
       "      <td>0</td>\n",
       "    </tr>\n",
       "    <tr>\n",
       "      <th>1</th>\n",
       "      <td>10009628</td>\n",
       "      <td>2153-09-17 17:08:00</td>\n",
       "      <td>2153-09-25 13:20:00</td>\n",
       "      <td>TRANSFER FROM HOSPITAL</td>\n",
       "      <td>HISPANIC/LATINO - PUERTO RICAN</td>\n",
       "      <td>0</td>\n",
       "    </tr>\n",
       "    <tr>\n",
       "      <th>2</th>\n",
       "      <td>10018081</td>\n",
       "      <td>2134-08-18 02:02:00</td>\n",
       "      <td>2134-08-23 19:35:00</td>\n",
       "      <td>TRANSFER FROM HOSPITAL</td>\n",
       "      <td>WHITE</td>\n",
       "      <td>0</td>\n",
       "    </tr>\n",
       "    <tr>\n",
       "      <th>3</th>\n",
       "      <td>10006053</td>\n",
       "      <td>2111-11-13 23:39:00</td>\n",
       "      <td>2111-11-15 17:20:00</td>\n",
       "      <td>TRANSFER FROM HOSPITAL</td>\n",
       "      <td>UNKNOWN</td>\n",
       "      <td>1</td>\n",
       "    </tr>\n",
       "    <tr>\n",
       "      <th>4</th>\n",
       "      <td>10031404</td>\n",
       "      <td>2113-08-04 18:46:00</td>\n",
       "      <td>2113-08-06 20:57:00</td>\n",
       "      <td>TRANSFER FROM HOSPITAL</td>\n",
       "      <td>WHITE</td>\n",
       "      <td>0</td>\n",
       "    </tr>\n",
       "  </tbody>\n",
       "</table>\n",
       "</div>"
      ],
      "text/plain": [
       "  subject_id           admittime           dischtime      admission_location  \\\n",
       "0   10004235 2196-02-24 14:38:00 2196-03-04 14:02:00  TRANSFER FROM HOSPITAL   \n",
       "1   10009628 2153-09-17 17:08:00 2153-09-25 13:20:00  TRANSFER FROM HOSPITAL   \n",
       "2   10018081 2134-08-18 02:02:00 2134-08-23 19:35:00  TRANSFER FROM HOSPITAL   \n",
       "3   10006053 2111-11-13 23:39:00 2111-11-15 17:20:00  TRANSFER FROM HOSPITAL   \n",
       "4   10031404 2113-08-04 18:46:00 2113-08-06 20:57:00  TRANSFER FROM HOSPITAL   \n",
       "\n",
       "                             race  deceased  \n",
       "0              BLACK/CAPE VERDEAN         0  \n",
       "1  HISPANIC/LATINO - PUERTO RICAN         0  \n",
       "2                           WHITE         0  \n",
       "3                         UNKNOWN         1  \n",
       "4                           WHITE         0  "
      ]
     },
     "execution_count": 121,
     "metadata": {},
     "output_type": "execute_result"
    }
   ],
   "source": [
    "admissions.head()"
   ]
  },
  {
   "cell_type": "code",
   "execution_count": 122,
   "metadata": {},
   "outputs": [
    {
     "data": {
      "text/html": [
       "<div>\n",
       "<style scoped>\n",
       "    .dataframe tbody tr th:only-of-type {\n",
       "        vertical-align: middle;\n",
       "    }\n",
       "\n",
       "    .dataframe tbody tr th {\n",
       "        vertical-align: top;\n",
       "    }\n",
       "\n",
       "    .dataframe thead th {\n",
       "        text-align: right;\n",
       "    }\n",
       "</style>\n",
       "<table border=\"1\" class=\"dataframe\">\n",
       "  <thead>\n",
       "    <tr style=\"text-align: right;\">\n",
       "      <th></th>\n",
       "      <th>subject_id</th>\n",
       "      <th>diagnosis_order</th>\n",
       "      <th>icd_code</th>\n",
       "      <th>icd_version</th>\n",
       "    </tr>\n",
       "  </thead>\n",
       "  <tbody>\n",
       "    <tr>\n",
       "      <th>0</th>\n",
       "      <td>10035185</td>\n",
       "      <td>3</td>\n",
       "      <td>4139</td>\n",
       "      <td>9</td>\n",
       "    </tr>\n",
       "    <tr>\n",
       "      <th>1</th>\n",
       "      <td>10035185</td>\n",
       "      <td>10</td>\n",
       "      <td>V707</td>\n",
       "      <td>9</td>\n",
       "    </tr>\n",
       "    <tr>\n",
       "      <th>2</th>\n",
       "      <td>10035185</td>\n",
       "      <td>1</td>\n",
       "      <td>41401</td>\n",
       "      <td>9</td>\n",
       "    </tr>\n",
       "    <tr>\n",
       "      <th>3</th>\n",
       "      <td>10035185</td>\n",
       "      <td>9</td>\n",
       "      <td>3899</td>\n",
       "      <td>9</td>\n",
       "    </tr>\n",
       "    <tr>\n",
       "      <th>4</th>\n",
       "      <td>10035185</td>\n",
       "      <td>11</td>\n",
       "      <td>V8532</td>\n",
       "      <td>9</td>\n",
       "    </tr>\n",
       "  </tbody>\n",
       "</table>\n",
       "</div>"
      ],
      "text/plain": [
       "  subject_id  diagnosis_order icd_code icd_version\n",
       "0   10035185                3     4139           9\n",
       "1   10035185               10     V707           9\n",
       "2   10035185                1    41401           9\n",
       "3   10035185                9     3899           9\n",
       "4   10035185               11    V8532           9"
      ]
     },
     "execution_count": 122,
     "metadata": {},
     "output_type": "execute_result"
    }
   ],
   "source": [
    "diagnoses_icd.head()"
   ]
  },
  {
   "cell_type": "code",
   "execution_count": 123,
   "metadata": {},
   "outputs": [
    {
     "data": {
      "text/html": [
       "<div>\n",
       "<style scoped>\n",
       "    .dataframe tbody tr th:only-of-type {\n",
       "        vertical-align: middle;\n",
       "    }\n",
       "\n",
       "    .dataframe tbody tr th {\n",
       "        vertical-align: top;\n",
       "    }\n",
       "\n",
       "    .dataframe thead th {\n",
       "        text-align: right;\n",
       "    }\n",
       "</style>\n",
       "<table border=\"1\" class=\"dataframe\">\n",
       "  <thead>\n",
       "    <tr style=\"text-align: right;\">\n",
       "      <th></th>\n",
       "      <th>subject_id</th>\n",
       "      <th>labresult</th>\n",
       "    </tr>\n",
       "  </thead>\n",
       "  <tbody>\n",
       "    <tr>\n",
       "      <th>0</th>\n",
       "      <td>10014354</td>\n",
       "      <td>normal</td>\n",
       "    </tr>\n",
       "    <tr>\n",
       "      <th>1</th>\n",
       "      <td>10014354</td>\n",
       "      <td>abnormal</td>\n",
       "    </tr>\n",
       "    <tr>\n",
       "      <th>2</th>\n",
       "      <td>10014354</td>\n",
       "      <td>abnormal</td>\n",
       "    </tr>\n",
       "    <tr>\n",
       "      <th>3</th>\n",
       "      <td>10014354</td>\n",
       "      <td>abnormal</td>\n",
       "    </tr>\n",
       "    <tr>\n",
       "      <th>4</th>\n",
       "      <td>10014354</td>\n",
       "      <td>abnormal</td>\n",
       "    </tr>\n",
       "  </tbody>\n",
       "</table>\n",
       "</div>"
      ],
      "text/plain": [
       "  subject_id labresult\n",
       "0   10014354    normal\n",
       "1   10014354  abnormal\n",
       "2   10014354  abnormal\n",
       "3   10014354  abnormal\n",
       "4   10014354  abnormal"
      ]
     },
     "execution_count": 123,
     "metadata": {},
     "output_type": "execute_result"
    }
   ],
   "source": [
    "labevents.head()"
   ]
  },
  {
   "cell_type": "code",
   "execution_count": 124,
   "metadata": {},
   "outputs": [
    {
     "data": {
      "text/html": [
       "<div>\n",
       "<style scoped>\n",
       "    .dataframe tbody tr th:only-of-type {\n",
       "        vertical-align: middle;\n",
       "    }\n",
       "\n",
       "    .dataframe tbody tr th {\n",
       "        vertical-align: top;\n",
       "    }\n",
       "\n",
       "    .dataframe thead th {\n",
       "        text-align: right;\n",
       "    }\n",
       "</style>\n",
       "<table border=\"1\" class=\"dataframe\">\n",
       "  <thead>\n",
       "    <tr style=\"text-align: right;\">\n",
       "      <th></th>\n",
       "      <th>subject_id</th>\n",
       "      <th>date</th>\n",
       "      <th>measurement</th>\n",
       "      <th>value</th>\n",
       "    </tr>\n",
       "  </thead>\n",
       "  <tbody>\n",
       "    <tr>\n",
       "      <th>0</th>\n",
       "      <td>10011398</td>\n",
       "      <td>2146-12-01</td>\n",
       "      <td>Height (Inches)</td>\n",
       "      <td>63</td>\n",
       "    </tr>\n",
       "    <tr>\n",
       "      <th>1</th>\n",
       "      <td>10011398</td>\n",
       "      <td>2147-01-22</td>\n",
       "      <td>Weight (Lbs)</td>\n",
       "      <td>127</td>\n",
       "    </tr>\n",
       "    <tr>\n",
       "      <th>2</th>\n",
       "      <td>10011398</td>\n",
       "      <td>2146-12-01</td>\n",
       "      <td>Weight (Lbs)</td>\n",
       "      <td>135</td>\n",
       "    </tr>\n",
       "    <tr>\n",
       "      <th>3</th>\n",
       "      <td>10011398</td>\n",
       "      <td>2147-07-24</td>\n",
       "      <td>Weight (Lbs)</td>\n",
       "      <td>136</td>\n",
       "    </tr>\n",
       "    <tr>\n",
       "      <th>4</th>\n",
       "      <td>10011398</td>\n",
       "      <td>2147-03-26</td>\n",
       "      <td>Weight (Lbs)</td>\n",
       "      <td>136</td>\n",
       "    </tr>\n",
       "  </tbody>\n",
       "</table>\n",
       "</div>"
      ],
      "text/plain": [
       "  subject_id       date      measurement value\n",
       "0   10011398 2146-12-01  Height (Inches)    63\n",
       "1   10011398 2147-01-22     Weight (Lbs)   127\n",
       "2   10011398 2146-12-01     Weight (Lbs)   135\n",
       "3   10011398 2147-07-24     Weight (Lbs)   136\n",
       "4   10011398 2147-03-26     Weight (Lbs)   136"
      ]
     },
     "execution_count": 124,
     "metadata": {},
     "output_type": "execute_result"
    }
   ],
   "source": [
    "omr.head()"
   ]
  },
  {
   "cell_type": "code",
   "execution_count": 125,
   "metadata": {},
   "outputs": [
    {
     "data": {
      "text/html": [
       "<div>\n",
       "<style scoped>\n",
       "    .dataframe tbody tr th:only-of-type {\n",
       "        vertical-align: middle;\n",
       "    }\n",
       "\n",
       "    .dataframe tbody tr th {\n",
       "        vertical-align: top;\n",
       "    }\n",
       "\n",
       "    .dataframe thead th {\n",
       "        text-align: right;\n",
       "    }\n",
       "</style>\n",
       "<table border=\"1\" class=\"dataframe\">\n",
       "  <thead>\n",
       "    <tr style=\"text-align: right;\">\n",
       "      <th></th>\n",
       "      <th>subject_id</th>\n",
       "      <th>gender</th>\n",
       "      <th>age</th>\n",
       "      <th>dateofdeath</th>\n",
       "    </tr>\n",
       "  </thead>\n",
       "  <tbody>\n",
       "    <tr>\n",
       "      <th>0</th>\n",
       "      <td>10014729</td>\n",
       "      <td>F</td>\n",
       "      <td>21</td>\n",
       "      <td>NaT</td>\n",
       "    </tr>\n",
       "    <tr>\n",
       "      <th>1</th>\n",
       "      <td>10003400</td>\n",
       "      <td>F</td>\n",
       "      <td>72</td>\n",
       "      <td>2137-09-02</td>\n",
       "    </tr>\n",
       "    <tr>\n",
       "      <th>2</th>\n",
       "      <td>10002428</td>\n",
       "      <td>F</td>\n",
       "      <td>80</td>\n",
       "      <td>NaT</td>\n",
       "    </tr>\n",
       "    <tr>\n",
       "      <th>3</th>\n",
       "      <td>10032725</td>\n",
       "      <td>F</td>\n",
       "      <td>38</td>\n",
       "      <td>2143-03-30</td>\n",
       "    </tr>\n",
       "    <tr>\n",
       "      <th>4</th>\n",
       "      <td>10027445</td>\n",
       "      <td>F</td>\n",
       "      <td>48</td>\n",
       "      <td>2146-02-09</td>\n",
       "    </tr>\n",
       "  </tbody>\n",
       "</table>\n",
       "</div>"
      ],
      "text/plain": [
       "  subject_id gender  age dateofdeath\n",
       "0   10014729      F   21         NaT\n",
       "1   10003400      F   72  2137-09-02\n",
       "2   10002428      F   80         NaT\n",
       "3   10032725      F   38  2143-03-30\n",
       "4   10027445      F   48  2146-02-09"
      ]
     },
     "execution_count": 125,
     "metadata": {},
     "output_type": "execute_result"
    }
   ],
   "source": [
    "patients.head()"
   ]
  },
  {
   "cell_type": "code",
   "execution_count": 126,
   "metadata": {},
   "outputs": [
    {
     "data": {
      "text/html": [
       "<div>\n",
       "<style scoped>\n",
       "    .dataframe tbody tr th:only-of-type {\n",
       "        vertical-align: middle;\n",
       "    }\n",
       "\n",
       "    .dataframe tbody tr th {\n",
       "        vertical-align: top;\n",
       "    }\n",
       "\n",
       "    .dataframe thead th {\n",
       "        text-align: right;\n",
       "    }\n",
       "</style>\n",
       "<table border=\"1\" class=\"dataframe\">\n",
       "  <thead>\n",
       "    <tr style=\"text-align: right;\">\n",
       "      <th></th>\n",
       "      <th>subject_id</th>\n",
       "      <th>drug</th>\n",
       "    </tr>\n",
       "  </thead>\n",
       "  <tbody>\n",
       "    <tr>\n",
       "      <th>0</th>\n",
       "      <td>10027602</td>\n",
       "      <td>Fentanyl Citrate</td>\n",
       "    </tr>\n",
       "    <tr>\n",
       "      <th>2</th>\n",
       "      <td>10027602</td>\n",
       "      <td>Lorazepam</td>\n",
       "    </tr>\n",
       "    <tr>\n",
       "      <th>3</th>\n",
       "      <td>10027602</td>\n",
       "      <td>Midazolam</td>\n",
       "    </tr>\n",
       "    <tr>\n",
       "      <th>5</th>\n",
       "      <td>10023239</td>\n",
       "      <td>Insulin Pump (Self Administering Medication)</td>\n",
       "    </tr>\n",
       "    <tr>\n",
       "      <th>8</th>\n",
       "      <td>10027602</td>\n",
       "      <td>Propofol</td>\n",
       "    </tr>\n",
       "  </tbody>\n",
       "</table>\n",
       "</div>"
      ],
      "text/plain": [
       "  subject_id                                          drug\n",
       "0   10027602                              Fentanyl Citrate\n",
       "2   10027602                                     Lorazepam\n",
       "3   10027602                                     Midazolam\n",
       "5   10023239  Insulin Pump (Self Administering Medication)\n",
       "8   10027602                                      Propofol"
      ]
     },
     "execution_count": 126,
     "metadata": {},
     "output_type": "execute_result"
    }
   ],
   "source": [
    "prescriptions.head()"
   ]
  },
  {
   "cell_type": "code",
   "execution_count": 127,
   "metadata": {},
   "outputs": [
    {
     "data": {
      "text/html": [
       "<div>\n",
       "<style scoped>\n",
       "    .dataframe tbody tr th:only-of-type {\n",
       "        vertical-align: middle;\n",
       "    }\n",
       "\n",
       "    .dataframe tbody tr th {\n",
       "        vertical-align: top;\n",
       "    }\n",
       "\n",
       "    .dataframe thead th {\n",
       "        text-align: right;\n",
       "    }\n",
       "</style>\n",
       "<table border=\"1\" class=\"dataframe\">\n",
       "  <thead>\n",
       "    <tr style=\"text-align: right;\">\n",
       "      <th></th>\n",
       "      <th>subject_id</th>\n",
       "      <th>procedure_order</th>\n",
       "      <th>procedure_date</th>\n",
       "      <th>icd_code</th>\n",
       "      <th>icd_version</th>\n",
       "    </tr>\n",
       "  </thead>\n",
       "  <tbody>\n",
       "    <tr>\n",
       "      <th>0</th>\n",
       "      <td>10011398</td>\n",
       "      <td>3</td>\n",
       "      <td>2146-12-15</td>\n",
       "      <td>3961</td>\n",
       "      <td>9</td>\n",
       "    </tr>\n",
       "    <tr>\n",
       "      <th>1</th>\n",
       "      <td>10011398</td>\n",
       "      <td>2</td>\n",
       "      <td>2146-12-15</td>\n",
       "      <td>3615</td>\n",
       "      <td>9</td>\n",
       "    </tr>\n",
       "    <tr>\n",
       "      <th>2</th>\n",
       "      <td>10011398</td>\n",
       "      <td>1</td>\n",
       "      <td>2146-12-15</td>\n",
       "      <td>3614</td>\n",
       "      <td>9</td>\n",
       "    </tr>\n",
       "    <tr>\n",
       "      <th>3</th>\n",
       "      <td>10014729</td>\n",
       "      <td>4</td>\n",
       "      <td>2125-03-23</td>\n",
       "      <td>3897</td>\n",
       "      <td>9</td>\n",
       "    </tr>\n",
       "    <tr>\n",
       "      <th>4</th>\n",
       "      <td>10014729</td>\n",
       "      <td>1</td>\n",
       "      <td>2125-03-20</td>\n",
       "      <td>3403</td>\n",
       "      <td>9</td>\n",
       "    </tr>\n",
       "  </tbody>\n",
       "</table>\n",
       "</div>"
      ],
      "text/plain": [
       "  subject_id  procedure_order procedure_date icd_code icd_version\n",
       "0   10011398                3     2146-12-15     3961           9\n",
       "1   10011398                2     2146-12-15     3615           9\n",
       "2   10011398                1     2146-12-15     3614           9\n",
       "3   10014729                4     2125-03-23     3897           9\n",
       "4   10014729                1     2125-03-20     3403           9"
      ]
     },
     "execution_count": 127,
     "metadata": {},
     "output_type": "execute_result"
    }
   ],
   "source": [
    "procedures_icd.head()"
   ]
  },
  {
   "cell_type": "raw",
   "metadata": {},
   "source": [
    "####### DATA PREPARATION NEXT STEPS:\n",
    "\n",
    "# DELETE MISSING VALUES:\n",
    "#df.dropna(subset=['column'], axis=0, inplace=True)  # Axis 0 removes rows, 1 removes columns\n",
    "#df.reset_index(drop=True, inplace=True)\n",
    "\n",
    "#or  replace by mean:\n",
    "#df.replace(np.nan, df['column'].mean(), inplace=True)\n",
    "\n",
    "#or replace by frequency:\n",
    "#df['num-of-doors'].value_counts() / +.idxmax() #most common\n",
    "-------------------------------------------------\n",
    "# Feature engineering: ------------------------------------------------------------------------\n",
    "# ex: Aggregate admissions for each patient - average length of stay, total number of admissions, final outcome (later)\n",
    "-----------------------------------------------------------------\n",
    "# DATA NORMALIZATION (careful with different units..):\n",
    "# Simple Feature Scaling (SFS) example:\n",
    "##df['column'] = df['column'] / df['column'].max()\n",
    "---------------------------------------------------\n",
    "# DATA BINNING (Optional):\n",
    "##bins = np.linspace(min(df['price']), max(df['price']), 4)\n",
    "##group_names = [\"Low\", \"Medium\", \"High\"]\n",
    "##df['price-binned'] = pd.cut(df['price'], bins, labels=group_names, include_lowest=True)\n",
    "----------------------------------------------------\n",
    "# TURN CATEGORICAL VARIABLES INTO QUANTITATIVE:\n",
    "##dummy_variable_1 = pd.get_dummies(df[\"fuel-type\"])\n",
    "##dummy_variable_1.rename(columns={'gas':'fuel-type-gas', 'diesel':'fuel-type-diesel'}, inplace=True)\n",
    "##Merge data frame \"df\" and \"dummy_variable_1\" \n",
    "##df = pd.concat([df, dummy_variable_1], axis=1)\n",
    "##Drop original column \"fuel-type\" from \"df\"\n",
    "##df.drop(\"fuel-type\", axis = 1, inplace=True)\n",
    "-----------------------------\n",
    "# EXPORT DATAFRAME TO CSV(optional):\n",
    "##df.to_csv('clean_df.csv', index=False)\n",
    "\n",
    "####### !!!: Remaining variables need explanation before eda and modeling\n",
    "########### EXAMPLE: -`'dateofdeath'`: This variable reflects both out-of-hospital (upto 1 year) and in-hospital deaths."
   ]
  }
 ],
 "metadata": {
  "kernelspec": {
   "display_name": "Python 3 (ipykernel)",
   "language": "python",
   "name": "python3"
  },
  "language_info": {
   "codemirror_mode": {
    "name": "ipython",
    "version": 3
   },
   "file_extension": ".py",
   "mimetype": "text/x-python",
   "name": "python",
   "nbconvert_exporter": "python",
   "pygments_lexer": "ipython3",
   "version": "3.12.2"
  }
 },
 "nbformat": 4,
 "nbformat_minor": 4
}
